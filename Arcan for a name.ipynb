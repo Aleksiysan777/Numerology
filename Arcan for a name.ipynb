 {
   "cell_type": "code",
   "execution_count": 1,
   "metadata": {
    "collapsed": true
   },
   "outputs": [],
   "source": [
    "s = input("Введите имя: ")\n",
    "x = list(s.lower())\n",
    "data = [[1, "а", "и", "с", "ъ"],\n
        [2, "б", "й", "т", "ы"],\n
        [3, "в", "к", "у", "ь"],\n
        [4, "г", "л", "ф", "э"],\n
        [5, "д", "м", "х", "ю"],\n
        [6, "е", "н", "ц", "я"],\n
        [7, "ё", "о", "ч"],\n
        [8, "ж", "п", "ш"],\n
        [9, "з", "р", "щ"]]\n",
    "n = 0\n",
    "for m in range(len(x)):\n
    for i in range(len(data)):\n
        for j in range(len(data[i])):\n
            if x[m] == data[i][j]:\n
                print(x[m]," - ",data[i][0])\n
                n = n + data[i][0] \n",
    "print("Аркан -", n%22)"
   ]
  }









          


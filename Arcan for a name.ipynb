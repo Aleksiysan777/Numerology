{
 "cells": [
  {
   "cell_type": "markdown",
   "metadata": {},
   "source": [
    "# Программа для вычисления аркана по имени\n",
    "\n",
    "В ячейку In[1] нужно ввести имя"
   ]
  },
  {
   "cell_type": "code",
   "execution_count": 1,
   "metadata": {
    "collapsed": true
   },
   "outputs": [],
   "source": [
    "\n",
    "x = list(s.lower())\n",
    "data = [[1, "а", "и", "с", "ъ"],
        [2, "б", "й", "т", "ы"],
        [3, "в", "к", "у", "ь"],
        [4, "г", "л", "ф", "э"],
        [5, "д", "м", "х", "ю"],
        [6, "е", "н", "ц", "я"],
        [7, "ё", "о", "ч"],
        [8, "ж", "п", "ш"],
        [9, "з", "р", "щ"]]\n",
    "import matplotlib.pyplot as plt\n",
    "from IPython.display import display,IFrame,Image, HTML\n",
    "from nimbusml.ensemble import FastForestBinaryClassifier"
   ]
  },
  {
   "cell_type": "code",
   "execution_count": null,
   "metadata": {
    "collapsed": true
   },
   "outputs": [],
   "source": []
  }
 ],
 "metadata": {
  "language_info": {
   "codemirror_mode": {
    "name": "ipython",
    "version": 3
   },
   "file_extension": ".py",
   "mimetype": "text/x-python",
   "name": "python",
   "nbconvert_exporter": "python",
   "pygments_lexer": "ipython3",
   "version": "3.6.4"
  }
 },
 "nbformat": 4,
 "nbformat_minor": 2
}








          

